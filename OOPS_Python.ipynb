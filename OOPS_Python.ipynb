{
  "nbformat": 4,
  "nbformat_minor": 0,
  "metadata": {
    "colab": {
      "name": "OOPS_Python.ipynb",
      "provenance": []
    },
    "kernelspec": {
      "name": "python3",
      "display_name": "Python 3"
    }
  },
  "cells": [
    {
      "cell_type": "markdown",
      "metadata": {
        "id": "HOnZEE8p28XR"
      },
      "source": [
        "1.1 Write a Python Program(with class concepts) to find the area of the triangle using the below formula.\r\n",
        "area = (s*(s-a)*(s-b)*(s-c)) ** 0.5\r\n",
        "\r\n"
      ]
    },
    {
      "cell_type": "code",
      "metadata": {
        "colab": {
          "base_uri": "https://localhost:8080/"
        },
        "id": "ZDJRCi7R28ip",
        "outputId": "e86b99a5-4122-4cd4-9195-d2faf0c6da33"
      },
      "source": [
        "class Triangle_Super:\r\n",
        " def __init__(self, side1, side2, side3):\r\n",
        "  self.side1 = side1\r\n",
        "  self.side2 = side2\r\n",
        "  self.side3 = side3\r\n",
        "  print (\"Sides recieved in Super class [\" +  str(side1) + \",\" + str(side2) + \",\" + str(side3) + \"]\")\r\n",
        "\r\n",
        "class Triangle_Subclass(Triangle_Super):\r\n",
        " \r\n",
        " def __init__(self, side1, side2, side3):\r\n",
        "  super(Triangle_Subclass, self).__init__(side1, side2, side3)\r\n",
        "\r\n",
        " def get_area(self):\r\n",
        "  s = (self.side1 + self.side2 + self.side3)/2\r\n",
        "  print (\"Semi Perimeter\", s)\r\n",
        "  return (s*(s-self.side1)*(s-self.side2)*(s-self.side3))**0.5\r\n",
        "\r\n",
        "s1=int(input(\"Enter Side1\"))\r\n",
        "s2=int(input(\"Enter Side2\"))\r\n",
        "s3=int(input(\"Enter Side3\"))\r\n",
        "area = Triangle_Subclass(s1,s2,s3)\r\n",
        "print (\"Area of triangle by Heron's formula = \" + str(area.get_area()) )"
      ],
      "execution_count": 1,
      "outputs": [
        {
          "output_type": "stream",
          "text": [
            "Enter Side13\n",
            "Enter Side29\n",
            "Enter Side38\n",
            "Sides recieved in Super class [3,9,8]\n",
            "Semi Perimeter 10.0\n",
            "Area of triangle by Heron's formula = 11.832159566199232\n"
          ],
          "name": "stdout"
        }
      ]
    },
    {
      "cell_type": "markdown",
      "metadata": {
        "id": "U-QtLslukj5O"
      },
      "source": [
        "1.2 Write a function filter_long_words() that takes a list of words and an integer n and returns the list of words that are longer than n."
      ]
    },
    {
      "cell_type": "code",
      "metadata": {
        "colab": {
          "base_uri": "https://localhost:8080/"
        },
        "id": "1toDfjkX2xlr",
        "outputId": "079535bf-873e-4cf1-87d7-e69b71265c3c"
      },
      "source": [
        "def filter_long_words(word_list,n):\r\n",
        "  return list(filter(lambda x: len(x) > n , lst))\r\n",
        "  \r\n",
        "input_string = input(\"Enter the text \")\r\n",
        "lst = input_string.split()\r\n",
        "print(\"Word corpus \", lst)\r\n",
        "n = int(input(\"Enter a filter limit\"))\r\n",
        "result=filter_long_words(lst,n)\r\n",
        "print(\"Filtered list is \", result)"
      ],
      "execution_count": 2,
      "outputs": [
        {
          "output_type": "stream",
          "text": [
            "Enter the text This is a Data Science class- Assignment in Python\n",
            "Word corpus  ['This', 'is', 'a', 'Data', 'Science', 'class-', 'Assignment', 'in', 'Python']\n",
            "Enter a filter limit5\n",
            "Filtered list is  ['Science', 'class-', 'Assignment', 'Python']\n"
          ],
          "name": "stdout"
        }
      ]
    },
    {
      "cell_type": "markdown",
      "metadata": {
        "id": "ECXcsDaCj4tJ"
      },
      "source": [
        "2.1 Write a Python program using function concept that maps list of words into a list of integers representing the lengths of the corresponding words."
      ]
    },
    {
      "cell_type": "code",
      "metadata": {
        "id": "LfKARCDZj8D6",
        "colab": {
          "base_uri": "https://localhost:8080/"
        },
        "outputId": "802acc12-88df-4bb4-8130-7874c9df0700"
      },
      "source": [
        "lst = [\"iNeuron\", \"OOPS\", \"Assignment\", \"Data Science\", \"Course\"]\r\n",
        "\r\n",
        "def length(lst):\r\n",
        " return list(map(lambda x: len(x), lst))\r\n",
        "\r\n",
        "print (\"Length of words in List is as \" + str(length(lst)))"
      ],
      "execution_count": 3,
      "outputs": [
        {
          "output_type": "stream",
          "text": [
            "Length of words in List is as [7, 4, 10, 12, 6]\n"
          ],
          "name": "stdout"
        }
      ]
    },
    {
      "cell_type": "markdown",
      "metadata": {
        "id": "I32itt7njqjf"
      },
      "source": [
        "2.2 Write a Python function which takes a character (i.e. a string of length 1) and returns True if it is a vowel, False otherwise."
      ]
    },
    {
      "cell_type": "code",
      "metadata": {
        "id": "YcOqIrvIji6i",
        "colab": {
          "base_uri": "https://localhost:8080/"
        },
        "outputId": "1c536563-c792-403e-eb03-dfdc1f483b0c"
      },
      "source": [
        "def isVowel(c):\r\n",
        " if(c == 'a' or c == 'e' or c == 'i' or c == 'o' or c == 'u'):\r\n",
        "  return True\r\n",
        " else:\r\n",
        "  return False\r\n",
        "c = input(\"Enter character: \");\r\n",
        "if (len(c)==1):\r\n",
        "  if (c.isalpha() == False):\r\n",
        "    exit();\r\n",
        "  if (isVowel(c)):\r\n",
        "    print(\"TRUE   \" +str(c)+ \" is a vowel.\");\r\n",
        "  else:\r\n",
        "    print(\"FALSE  \"+str(c), \" is not a vowel,It is a consonant.\"); \r\n",
        "else:\r\n",
        "  print(\"Length of Input should be only 1\")"
      ],
      "execution_count": 4,
      "outputs": [
        {
          "output_type": "stream",
          "text": [
            "Enter character: qw\n",
            "Length of Input should be only 1\n"
          ],
          "name": "stdout"
        }
      ]
    },
    {
      "cell_type": "code",
      "metadata": {
        "colab": {
          "base_uri": "https://localhost:8080/"
        },
        "id": "BAFx4hsb-OX4",
        "outputId": "7627dd0d-a3ab-4e1e-ee76-dd242ab86d20"
      },
      "source": [
        "def isVowel(c):\r\n",
        " if(c == 'a' or c == 'e' or c == 'i' or c == 'o' or c == 'u'):\r\n",
        "  return True\r\n",
        " else:\r\n",
        "  return False\r\n",
        "c = input(\"Enter character: \");\r\n",
        "if (len(c)==1):\r\n",
        "  if (c.isalpha() == False):\r\n",
        "    exit();\r\n",
        "  if (isVowel(c)):\r\n",
        "    print(\"TRUE   \" +str(c)+ \" is a vowel.\");\r\n",
        "  else:\r\n",
        "    print(\"FALSE  \"+str(c), \" is not a vowel,It is a consonant.\"); \r\n",
        "else:\r\n",
        "  print(\"Length of Input should be only 1\")"
      ],
      "execution_count": 5,
      "outputs": [
        {
          "output_type": "stream",
          "text": [
            "Enter character: a\n",
            "TRUE   a is a vowel.\n"
          ],
          "name": "stdout"
        }
      ]
    }
  ]
}