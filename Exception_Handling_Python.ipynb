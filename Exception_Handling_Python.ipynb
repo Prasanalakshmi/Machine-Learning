{
  "nbformat": 4,
  "nbformat_minor": 0,
  "metadata": {
    "colab": {
      "name": "Exception Handling_Python.ipynb",
      "provenance": []
    },
    "kernelspec": {
      "name": "python3",
      "display_name": "Python 3"
    }
  },
  "cells": [
    {
      "cell_type": "markdown",
      "metadata": {
        "id": "YeWfkXaXjMf8"
      },
      "source": [
        "Write a function to compute 5/0 and use try/except to catch the exceptions."
      ]
    },
    {
      "cell_type": "code",
      "metadata": {
        "colab": {
          "base_uri": "https://localhost:8080/"
        },
        "id": "B8PUvKQ0jADt",
        "outputId": "4ae6389a-748b-4000-a431-e5d5a3941703"
      },
      "source": [
        "def divide_by_zero():\r\n",
        " return 5/0\r\n",
        "\r\n",
        "try:\r\n",
        " divide_by_zero()\r\n",
        "except ZeroDivisionError as e:\r\n",
        " print(\"Handle run-time 'div by 0'error:\", e)"
      ],
      "execution_count": 1,
      "outputs": [
        {
          "output_type": "stream",
          "text": [
            "Handle run-time 'div by 0'error: division by zero\n"
          ],
          "name": "stdout"
        }
      ]
    },
    {
      "cell_type": "markdown",
      "metadata": {
        "id": "Toite6q2jav-"
      },
      "source": [
        "Problem Statement​ ​1:\r\n",
        "\r\n",
        "Implement a Python program to generate all sentences where subject is in\r\n",
        "[\"Americans\", \"Indians\"] and verb is in [\"Play\", \"watch\"] and the object is in [\"Baseball\",\"cricket\"].\r\n",
        "\r\n",
        "Hint: Subject,Verb and Object should be declared in the program as shown below.\r\n",
        "subjects=[\"Americans \",\"Indians\"]\r\n",
        "\r\n",
        "verbs=[\"play\",\"watch\"]\r\n",
        "\r\n",
        "objects=[\"Baseball\",\"Cricket\"]\r\n",
        "\r\n",
        "Output should come as below:\r\n",
        "\r\n",
        "Americans play Baseball.\r\n",
        "\r\n",
        "Americans play Cricket.\r\n",
        "\r\n",
        "Americans watch Baseball.\r\n",
        "\r\n",
        "Americans watch Cricket.\r\n",
        "\r\n",
        "Indians play Baseball.\r\n",
        "\r\n",
        "Indians play Cricket.\r\n",
        "\r\n",
        "\r\n",
        "Indians watch Baseball.\r\n",
        "\r\n",
        "Indians watch Cricket."
      ]
    },
    {
      "cell_type": "code",
      "metadata": {
        "colab": {
          "base_uri": "https://localhost:8080/"
        },
        "id": "L5pBYqogjjWM",
        "outputId": "2d9ff49c-73f6-4f0f-b434-41696e91934d"
      },
      "source": [
        "subjects=[\"Americans\", \"Indians\"]\r\n",
        "verbs=[\"Play\", \"watch\"]\r\n",
        "objects=[\"Baseball\",\"cricket\"]\r\n",
        "sentence_list = [(sub+\" \"+ vb + \" \" + ob) for sub in subjects for vb in verbs for ob in objects]\r\n",
        "for sentence in sentence_list:\r\n",
        " print (sentence)"
      ],
      "execution_count": 5,
      "outputs": [
        {
          "output_type": "stream",
          "text": [
            "Americans Play Baseball\n",
            "Americans Play cricket\n",
            "Americans watch Baseball\n",
            "Americans watch cricket\n",
            "Indians Play Baseball\n",
            "Indians Play cricket\n",
            "Indians watch Baseball\n",
            "Indians watch cricket\n"
          ],
          "name": "stdout"
        }
      ]
    }
  ]
}