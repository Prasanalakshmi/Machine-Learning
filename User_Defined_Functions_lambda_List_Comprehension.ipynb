{
  "nbformat": 4,
  "nbformat_minor": 0,
  "metadata": {
    "colab": {
      "name": "User-Defined Functions_lambda_List Comprehension.ipynb",
      "provenance": []
    },
    "kernelspec": {
      "name": "python3",
      "display_name": "Python 3"
    }
  },
  "cells": [
    {
      "cell_type": "markdown",
      "metadata": {
        "id": "uNnGngW4LAA3"
      },
      "source": [
        "1.1 Write a Python Program to implement your own myreduce() function which works exactly like Python's built-in function reduce()"
      ]
    },
    {
      "cell_type": "code",
      "metadata": {
        "colab": {
          "base_uri": "https://localhost:8080/"
        },
        "id": "9TCQgMzjKcUT",
        "outputId": "984376d4-8472-4c64-d4ae-5af6c0a1f109"
      },
      "source": [
        "#myReduce function definition\r\n",
        "def myReduce(fn, seq):\r\n",
        "  result = seq[0]\r\n",
        "  for i in seq[1:]:\r\n",
        "   result = fn(result, i)\r\n",
        "  return result\r\n",
        "#lambda function to find maximum of the numbers in the list\r\n",
        "max_find=lambda a,b: a if (a>b) else b\r\n",
        "#list initialization\r\n",
        "lst=[47,11,42,13]\r\n",
        "#using user-defined function myReduce\r\n",
        "myReduce(max_find,lst)"
      ],
      "execution_count": 1,
      "outputs": [
        {
          "output_type": "execute_result",
          "data": {
            "text/plain": [
              "47"
            ]
          },
          "metadata": {
            "tags": []
          },
          "execution_count": 1
        }
      ]
    },
    {
      "cell_type": "markdown",
      "metadata": {
        "id": "BsnYact_LWDt"
      },
      "source": [
        "1.2 Write a Python program to implement your own myfilter() function which works exactly like Python's built-in function filter()"
      ]
    },
    {
      "cell_type": "code",
      "metadata": {
        "id": "87-8HBYrLcfu"
      },
      "source": [
        "#user-defined function myFilter definition\r\n",
        "def myFilter(fn, seq):\r\n",
        " result = []\r\n",
        " for i in seq:\r\n",
        "  if fn(i):\r\n",
        "   result.append(i)\r\n",
        " return result\r\n"
      ],
      "execution_count": 2,
      "outputs": []
    },
    {
      "cell_type": "code",
      "metadata": {
        "colab": {
          "base_uri": "https://localhost:8080/"
        },
        "id": "tqyq1nnmLh6W",
        "outputId": "e292ff62-8204-4546-90e0-f9bbd270a7d0"
      },
      "source": [
        "#to filter even numbers using user-defined function myFilter\r\n",
        "lst=[1,2,3,4,5,6,7,8,9,10]\r\n",
        "list(myFilter(lambda x:x%2 ==0 , lst))\r\n"
      ],
      "execution_count": 3,
      "outputs": [
        {
          "output_type": "execute_result",
          "data": {
            "text/plain": [
              "[2, 4, 6, 8, 10]"
            ]
          },
          "metadata": {
            "tags": []
          },
          "execution_count": 3
        }
      ]
    },
    {
      "cell_type": "code",
      "metadata": {
        "colab": {
          "base_uri": "https://localhost:8080/"
        },
        "id": "0Q6VzaMHLkiw",
        "outputId": "582601b5-e7df-49cc-d30d-c6f50eec80a5"
      },
      "source": [
        "#to filter odd numbers using user-defined function myFilter\r\n",
        "list(myFilter(lambda x:x%2 !=0 , lst))"
      ],
      "execution_count": 4,
      "outputs": [
        {
          "output_type": "execute_result",
          "data": {
            "text/plain": [
              "[1, 3, 5, 7, 9]"
            ]
          },
          "metadata": {
            "tags": []
          },
          "execution_count": 4
        }
      ]
    },
    {
      "cell_type": "markdown",
      "metadata": {
        "id": "W6EgcxhcLrLy"
      },
      "source": [
        "2. Implement List comprehensions to produce the following lists."
      ]
    },
    {
      "cell_type": "markdown",
      "metadata": {
        "id": "YGCp57f6Lud6"
      },
      "source": [
        "['x', 'xx', 'xxx', 'xxxx', 'y', 'yy', 'yyy', 'yyyy', 'z', 'zz', 'zzz','zzzz']"
      ]
    },
    {
      "cell_type": "code",
      "metadata": {
        "colab": {
          "base_uri": "https://localhost:8080/"
        },
        "id": "4474qeyWL32g",
        "outputId": "52f6f87c-8388-4732-bb73-39e0109e0cdf"
      },
      "source": [
        "lst= ['x','y','z']\r\n",
        "result = [ i*num for i in lst for num in range(1,5)  ]\r\n",
        "print(result)"
      ],
      "execution_count": 5,
      "outputs": [
        {
          "output_type": "stream",
          "text": [
            "['x', 'xx', 'xxx', 'xxxx', 'y', 'yy', 'yyy', 'yyyy', 'z', 'zz', 'zzz', 'zzzz']\n"
          ],
          "name": "stdout"
        }
      ]
    },
    {
      "cell_type": "markdown",
      "metadata": {
        "id": "GunZ_DshL9u0"
      },
      "source": [
        "['x', 'y', 'z', 'xx', 'yy', 'zz', 'xxx', 'yyy', 'zzz', 'xxxx', 'yyyy', 'zzzz']"
      ]
    },
    {
      "cell_type": "code",
      "metadata": {
        "colab": {
          "base_uri": "https://localhost:8080/"
        },
        "id": "BWf6ljwJMB7A",
        "outputId": "af9fc316-9975-49af-d2b2-80a1d0686d47"
      },
      "source": [
        "lst = ['x','y','z']\r\n",
        "result = [ i*num for num in range(1,5) for i in lst  ]\r\n",
        "print(result)"
      ],
      "execution_count": 6,
      "outputs": [
        {
          "output_type": "stream",
          "text": [
            "['x', 'y', 'z', 'xx', 'yy', 'zz', 'xxx', 'yyy', 'zzz', 'xxxx', 'yyyy', 'zzzz']\n"
          ],
          "name": "stdout"
        }
      ]
    },
    {
      "cell_type": "markdown",
      "metadata": {
        "id": "iFJPVZqdMFvL"
      },
      "source": [
        "[[2], [3], [4], [3], [4], [5], [4], [5], [6]]"
      ]
    },
    {
      "cell_type": "code",
      "metadata": {
        "colab": {
          "base_uri": "https://localhost:8080/"
        },
        "id": "3OKEDaSHMIjL",
        "outputId": "57cf7630-4771-4144-beba-9c169783d169"
      },
      "source": [
        "lst = [2,3,4]\r\n",
        "result = [ [i+num] for i in lst for num in range(0,3)]\r\n",
        "print(result)"
      ],
      "execution_count": 7,
      "outputs": [
        {
          "output_type": "stream",
          "text": [
            "[[2], [3], [4], [3], [4], [5], [4], [5], [6]]\n"
          ],
          "name": "stdout"
        }
      ]
    },
    {
      "cell_type": "markdown",
      "metadata": {
        "id": "M6W2YhuNMLVd"
      },
      "source": [
        "[[2, 3, 4, 5], [3, 4, 5, 6], [4, 5, 6, 7], [5, 6, 7, 8]]"
      ]
    },
    {
      "cell_type": "code",
      "metadata": {
        "colab": {
          "base_uri": "https://localhost:8080/"
        },
        "id": "6qIxc749MNcf",
        "outputId": "e29df692-fc3c-41fc-c89e-febc4887c8bf"
      },
      "source": [
        "lst = [2,3,4,5]\r\n",
        "result = [ [i+num for i in lst] for num in range(0,4)  ]\r\n",
        "print(result)"
      ],
      "execution_count": 8,
      "outputs": [
        {
          "output_type": "stream",
          "text": [
            "[[2, 3, 4, 5], [3, 4, 5, 6], [4, 5, 6, 7], [5, 6, 7, 8]]\n"
          ],
          "name": "stdout"
        }
      ]
    },
    {
      "cell_type": "markdown",
      "metadata": {
        "id": "-kLs7q1QMPk4"
      },
      "source": [
        "[(1, 1), (2, 1), (3, 1), (1, 2), (2, 2), (3, 2), (1, 3), (2, 3), (3, 3)]"
      ]
    },
    {
      "cell_type": "code",
      "metadata": {
        "colab": {
          "base_uri": "https://localhost:8080/"
        },
        "id": "8JOxQBKuMRy5",
        "outputId": "857abd37-2176-4d5e-bb64-16aa359f3fc3"
      },
      "source": [
        "lst=[1,2,3]\r\n",
        "result = [ (y,x) for x in lst for y in lst]\r\n",
        "print(result)"
      ],
      "execution_count": 9,
      "outputs": [
        {
          "output_type": "stream",
          "text": [
            "[(1, 1), (2, 1), (3, 1), (1, 2), (2, 2), (3, 2), (1, 3), (2, 3), (3, 3)]\n"
          ],
          "name": "stdout"
        }
      ]
    }
  ]
}