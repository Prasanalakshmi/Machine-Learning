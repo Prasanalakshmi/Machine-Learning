{
  "nbformat": 4,
  "nbformat_minor": 0,
  "metadata": {
    "colab": {
      "name": "Working with Numpy.ipynb",
      "provenance": []
    },
    "kernelspec": {
      "name": "python3",
      "display_name": "Python 3"
    }
  },
  "cells": [
    {
      "cell_type": "markdown",
      "metadata": {
        "id": "T8wdpnz6OnUA"
      },
      "source": [
        "Write a function so that the columns of the output matrix are powers of the input\r\n",
        "vector.\r\n",
        "The order of the powers is determined by the increasing boolean argument. Specifically, when\r\n",
        "increasing is False, the i-th output column is the input vector raised element-wise to the power\r\n",
        "of N - i - 1.\r\n",
        "\r\n",
        "HINT: Such a matrix with a geometric progression in each row is named for Alexandre-\r\n",
        "Theophile Vandermonde."
      ]
    },
    {
      "cell_type": "code",
      "metadata": {
        "colab": {
          "base_uri": "https://localhost:8080/"
        },
        "id": "5S65Kks-OmEc",
        "outputId": "9e0fb3fb-e02e-43c9-841d-965a6f79e2e5"
      },
      "source": [
        "import numpy as np\r\n",
        " \r\n",
        "def vander_generate(vec, n, inc=True):\r\n",
        "    \r\n",
        "    if inc:\r\n",
        "        op_matx = np.array([x**i for x in vec for i in range(n)]).reshape(vec.size,n)\r\n",
        "    elif not inc:\r\n",
        "        op_matx = np.array([x**(n-1-i) for x in vec for i in range(n)]).reshape(vec.size,n)\r\n",
        "    return op_matx\r\n",
        "\r\n",
        "print(\"-------------------------------\\n\")\r\n",
        "print(\"------------OUTPUT-------------\\n\")\r\n",
        "print(\"-------------------------------\\n\")\r\n",
        "vec = np.array([1,2,3,4,5])\r\n",
        "no_col_opmat = 3\r\n",
        "op_matx_dec_order = vander_generate(vec,no_col_opmat,False)\r\n",
        "op_matx_inc_order = vander_generate(vec,no_col_opmat,True)\r\n",
        "\r\n",
        "print(\"The input array is:\",vec,\"\\n\")\r\n",
        "print(\"Number of columns in output matrix should be:\",no_col_opmat,\"\\n\")\r\n",
        "print(\"Vander matrix of the input array in decreasing order of powers:\\n\\n\",op_matx_dec_order,\"\\n\")\r\n",
        "print(\"Vander matrix of the input array in increasing order of powers:\\n\\n\",op_matx_inc_order,\"\\n\")\r\n",
        "\r\n",
        "vec = np.array([1,2,4,6,8,10])\r\n",
        "no_col_opmat = 5\r\n",
        "op_matx_dec_order = vander_generate(vec,no_col_opmat,False)\r\n",
        "op_matx_inc_order = vander_generate(vec,no_col_opmat,True)\r\n",
        "\r\n",
        "print(\"---------------------------------------------------------------\\n\")\r\n",
        "print(\"The input array is:\",vec,\"\\n\")\r\n",
        "print(\"Number of columns in output matrix should be:\",no_col_opmat,\"\\n\")\r\n",
        "print(\"Vander matrix of the input array in decreasing order of powers:\\n\\n\",op_matx_dec_order,\"\\n\")\r\n",
        "print(\"Vander matrix of the input array in increasing order of powers:\\n\\n\",op_matx_inc_order,\"\\n\")"
      ],
      "execution_count": 2,
      "outputs": [
        {
          "output_type": "stream",
          "text": [
            "-------------------------------\n",
            "\n",
            "------------OUTPUT-------------\n",
            "\n",
            "-------------------------------\n",
            "\n",
            "The input array is: [1 2 3 4 5] \n",
            "\n",
            "Number of columns in output matrix should be: 3 \n",
            "\n",
            "Vander matrix of the input array in decreasing order of powers:\n",
            "\n",
            " [[ 1  1  1]\n",
            " [ 4  2  1]\n",
            " [ 9  3  1]\n",
            " [16  4  1]\n",
            " [25  5  1]] \n",
            "\n",
            "Vander matrix of the input array in increasing order of powers:\n",
            "\n",
            " [[ 1  1  1]\n",
            " [ 1  2  4]\n",
            " [ 1  3  9]\n",
            " [ 1  4 16]\n",
            " [ 1  5 25]] \n",
            "\n",
            "---------------------------------------------------------------\n",
            "\n",
            "The input array is: [ 1  2  4  6  8 10] \n",
            "\n",
            "Number of columns in output matrix should be: 5 \n",
            "\n",
            "Vander matrix of the input array in decreasing order of powers:\n",
            "\n",
            " [[    1     1     1     1     1]\n",
            " [   16     8     4     2     1]\n",
            " [  256    64    16     4     1]\n",
            " [ 1296   216    36     6     1]\n",
            " [ 4096   512    64     8     1]\n",
            " [10000  1000   100    10     1]] \n",
            "\n",
            "Vander matrix of the input array in increasing order of powers:\n",
            "\n",
            " [[    1     1     1     1     1]\n",
            " [    1     2     4     8    16]\n",
            " [    1     4    16    64   256]\n",
            " [    1     6    36   216  1296]\n",
            " [    1     8    64   512  4096]\n",
            " [    1    10   100  1000 10000]] \n",
            "\n"
          ],
          "name": "stdout"
        }
      ]
    },
    {
      "cell_type": "markdown",
      "metadata": {
        "id": "1N-bD4i-O0VY"
      },
      "source": [
        "Given a sequence of n values x1, x2, ..., xn and a window size k>0, the k-th moving average of\r\n",
        "the given sequence is defined as follows:\r\n",
        "The moving average sequence has n-k+1 elements as shown below.\r\n",
        "The moving averages with k=4 of a ten-value sequence (n=10) is shown below\r\n",
        "i 1 2 3 4 5 6 7 8 9 10\r\n",
        "===== == == == == == == == == == ==\r\n",
        "Input 10 20 30 40 50 60 70 80 90 100\r\n",
        "y1 25 = (10+20+30+40)/4\r\n",
        "y2 35 = (20+30+40+50)/4\r\n",
        "y3 45 = (30+40+50+60)/4\r\n",
        "y4 55 = (40+50+60+70)/4\r\n",
        "y5 65 = (50+60+70+80)/4\r\n",
        "y6 75 = (60+70+80+90)/4\r\n",
        "y7 85 = (70+80+90+100)/4\r\n",
        "Thus, the moving average sequence has n-k+1=10-4+1=7 values.\r\n",
        "Question: Write a function to find moving average in an array over a window:\r\n",
        "Test it over [3, 5, 7, 2, 8, 10, 11, 65, 72, 81, 99, 100, 150] and window of 3."
      ]
    },
    {
      "cell_type": "code",
      "metadata": {
        "id": "QZ-qVUvdOz_6"
      },
      "source": [
        "def mov_avg_val(mylist, N):\r\n",
        "    cumsum, moving_aves = [0], []\r\n",
        "    for i, x in enumerate(mylist, 1):\r\n",
        "        cumsum.append(cumsum[i-1] + x) # summing up all the values one by one and appending the list\r\n",
        "        if i>=N:\r\n",
        "            moving_ave = round(((cumsum[i] - cumsum[i-N])/N),2) #computing the moving average using temp array sum array cumsum\r\n",
        "            #can do stuff with moving_ave here\r\n",
        "            moving_aves.append(moving_ave) # listing the moving average as an single array\r\n",
        "    print(\"Moving average values list: \", moving_aves)\r\n",
        "    print(\"Length of the list l-N+1: \", len(moving_aves))"
      ],
      "execution_count": 3,
      "outputs": []
    },
    {
      "cell_type": "code",
      "metadata": {
        "colab": {
          "base_uri": "https://localhost:8080/"
        },
        "id": "QheBTZANPOMc",
        "outputId": "cdebdf9f-84ff-4c5a-db72-b4bcc1374fd7"
      },
      "source": [
        "mylist = [3, 5, 7, 2, 8, 10, 11, 65, 72, 81, 99, 100, 150]\r\n",
        "N = 3\r\n",
        "\r\n",
        "mov_avg_val(mylist,N)"
      ],
      "execution_count": 4,
      "outputs": [
        {
          "output_type": "stream",
          "text": [
            "Moving average values list:  [5.0, 4.67, 5.67, 6.67, 9.67, 28.67, 49.33, 72.67, 84.0, 93.33, 116.33]\n",
            "Length of the list l-N+1:  11\n"
          ],
          "name": "stdout"
        }
      ]
    }
  ]
}